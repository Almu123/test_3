{
 "cells": [
  {
   "cell_type": "code",
   "execution_count": 1,
   "id": "1f815b8a",
   "metadata": {},
   "outputs": [],
   "source": [
    "import matplotlib.pyplot as plt\n",
    "from numpy import sign"
   ]
  },
  {
   "cell_type": "code",
   "execution_count": 2,
   "id": "6fcbbbd9",
   "metadata": {},
   "outputs": [],
   "source": [
    "def calculate_acceleration(v, k=0.0, mass=1.0, gravity=-9.81):\n",
    "    '''\n",
    "    Calculate the acceleration based on combined forces from gravity and \n",
    "    air resistance.\n",
    "    Args:\n",
    "        v (float) : \n",
    "            velocity (m/s) for this time step\n",
    "        k (float) : \n",
    "            Combined air resistance coefficient, based on F=-kv^2. \n",
    "            Should be positive.\n",
    "            Default = 0.0  i.e. no air resistance\n",
    "        mass (float) : \n",
    "            Mass of the falling object. Needed if k > 0.\n",
    "            Default = 1.0\n",
    "        gravity (float) :\n",
    "            Value for gravity to use when calculating gravitational force in m/s2.\n",
    "            Default = -9.81\n",
    "    Returns:\n",
    "        float : accelaration calculated for this time step\n",
    "    '''\n",
    "    force_gravity = mass*gravity\n",
    "    force_air = -sign(v)*k*v**2\n",
    "    total_force = force_gravity + force_air\n",
    "    a = total_force/mass\n",
    "    \n",
    "    return a\n",
    "\n",
    "\n",
    "def update_state(t, x, v, a, dt=0.1):\n",
    "    '''\n",
    "    Update each parameter for the next time step.\n",
    "    Args:\n",
    "        t, x, v, a (float) : \n",
    "            time (s), position (m) and velocity (m/s) and acceleration (m/s2) value for this time step.\n",
    "        dt (float) :\n",
    "            time interval (s) for this small time step\n",
    "    Returns:\n",
    "        float, float, float : Updated values for t, h, v after this time step\n",
    "    '''\n",
    "    distance_moved = v*dt + (1/2)*a*(dt**2)\n",
    "    v += a*dt\n",
    "    t += dt\n",
    "\n",
    "    x += distance_moved\n",
    "    \n",
    "    return t, x, v\n",
    "\n",
    "\n",
    "def falling_mass(initial_height, k=0.0, mass=1.0, dt=0.1):\n",
    "    '''\n",
    "    Model a falling mass from a given height.\n",
    "    \n",
    "    Args:\n",
    "        initial_height (float) : \n",
    "            Starting height for the model in metres.\n",
    "        k (float) :\n",
    "            Combined air resistance coefficient, based on F=-kv^2. \n",
    "            Should be positive.\n",
    "            Default = 0.0  i.e. no air resistance\n",
    "        mass (float) :\n",
    "            Mass of the object. Only needed if k is not 0.\n",
    "            Default = 1.0  (kg)\n",
    "        dt (float, optional) : \n",
    "            Time interval for each time step in seconds.\n",
    "            Default = 0.1\n",
    "    \n",
    "    Returns:\n",
    "        list, list, list : Three lists containing the time, height and velocity\n",
    "    '''\n",
    "    # Fixed input values\n",
    "    start_velocity = 0.0 # m/s\n",
    "    gravity = -9.81 # m/s2\n",
    "\n",
    "    # Initial values for our parameters\n",
    "    distance_moved = 0\n",
    "    h = initial_height\n",
    "    v = start_velocity\n",
    "    t = 0.0\n",
    "\n",
    "    # Create empty lists which we will update\n",
    "    height = []\n",
    "    velocity = []\n",
    "    time = []\n",
    "\n",
    "    # Keep looping while the object is still falling\n",
    "    while h > 0:\n",
    "        # Evaluate the state of the system - start by calculating the total force on the object\n",
    "        a = calculate_acceleration(v, k=k, mass=mass, gravity=gravity)\n",
    "\n",
    "        # Append values to list and then update\n",
    "        height.append(h)\n",
    "        velocity.append(v)\n",
    "        time.append(t)\n",
    "\n",
    "        # Update the state for time, height and velocity\n",
    "        t, h, v = update_state(t, h, v, a, dt=dt)\n",
    "    \n",
    "    return time, height, velocity"
   ]
  },
  {
   "cell_type": "code",
   "execution_count": 3,
   "id": "173ed9dd",
   "metadata": {},
   "outputs": [],
   "source": [
    "t, y, vy = falling_mass(20, k=0.035)"
   ]
  },
  {
   "cell_type": "code",
   "execution_count": 4,
   "id": "cf6b8605",
   "metadata": {},
   "outputs": [
    {
     "data": {
      "image/png": "[encoded data removed]",
      "text/plain": [
       "<Figure size 640x480 with 2 Axes>"
      ]
     },
     "metadata": {},
     "output_type": "display_data"
    }
   ],
   "source": [
    "fig, (ax1, ax2) = plt.subplots(2, 1, sharex=True)\n",
    "\n",
    "ax1.plot(t, y)\n",
    "ax1.set_ylabel(\"y (m)\")\n",
    "\n",
    "ax2.plot(t, vy)\n",
    "ax2.set_ylabel(\"Velocity (m/s)\")\n",
    "ax2.set_xlabel(\"t (s)\")\n",
    "\n",
    "plt.show()"
   ]
  },
  {
   "cell_type": "code",
   "execution_count": 5,
   "id": "53fe2110",
   "metadata": {},
   "outputs": [
    {
     "ename": "ModuleNotFoundError",
     "evalue": "No module named 'projectile_package'",
     "output_type": "error",
     "traceback": [
      "\u001b[1;31m---------------------------------------------------------------------------\u001b[0m",
      "\u001b[1;31mModuleNotFoundError\u001b[0m                       Traceback (most recent call last)",
      "Cell \u001b[1;32mIn[5], line 1\u001b[0m\n\u001b[1;32m----> 1\u001b[0m \u001b[38;5;28;01mfrom\u001b[39;00m \u001b[38;5;21;01mprojectile_package\u001b[39;00m\u001b[38;5;21;01m.\u001b[39;00m\u001b[38;5;21;01mprojectile\u001b[39;00m \u001b[38;5;28;01mimport\u001b[39;00m flying_mass\n\u001b[0;32m      2\u001b[0m \u001b[38;5;28;01mfrom\u001b[39;00m \u001b[38;5;21;01mprojectile_package\u001b[39;00m\u001b[38;5;21;01m.\u001b[39;00m\u001b[38;5;21;01mprojectile_plot\u001b[39;00m \u001b[38;5;28;01mimport\u001b[39;00m plot_xy\n",
      "\u001b[1;31mModuleNotFoundError\u001b[0m: No module named 'projectile_package'"
     ]
    }
   ],
   "source": [
    "from projectile_package.projectile import flying_mass\n",
    "from projectile_package.projectile_plot import plot_xy"
   ]
  },
  {
   "cell_type": "code",
   "execution_count": 6,
   "id": "d6bb68ab",
   "metadata": {},
   "outputs": [
    {
     "ename": "NameError",
     "evalue": "name 'flying_mass' is not defined",
     "output_type": "error",
     "traceback": [
      "\u001b[1;31m---------------------------------------------------------------------------\u001b[0m",
      "\u001b[1;31mNameError\u001b[0m                                 Traceback (most recent call last)",
      "Cell \u001b[1;32mIn[6], line 1\u001b[0m\n\u001b[1;32m----> 1\u001b[0m t, x, y, vx, vy \u001b[38;5;241m=\u001b[39m flying_mass(\u001b[38;5;241m10.\u001b[39m, \u001b[38;5;241m10.\u001b[39m, mass\u001b[38;5;241m=\u001b[39m\u001b[38;5;241m1.\u001b[39m, k\u001b[38;5;241m=\u001b[39m\u001b[38;5;241m0.035\u001b[39m)\n",
      "\u001b[1;31mNameError\u001b[0m: name 'flying_mass' is not defined"
     ]
    }
   ],
   "source": [
    "t, x, y, vx, vy = flying_mass(10., 10., mass=1., k=0.035)"
   ]
  },
  {
   "cell_type": "code",
   "execution_count": 7,
   "id": "6ab51fe3",
   "metadata": {},
   "outputs": [
    {
     "ename": "NameError",
     "evalue": "name 'plot_xy' is not defined",
     "output_type": "error",
     "traceback": [
      "\u001b[1;31m---------------------------------------------------------------------------\u001b[0m",
      "\u001b[1;31mNameError\u001b[0m                                 Traceback (most recent call last)",
      "Cell \u001b[1;32mIn[7], line 1\u001b[0m\n\u001b[1;32m----> 1\u001b[0m plot_xy(x, y)\n",
      "\u001b[1;31mNameError\u001b[0m: name 'plot_xy' is not defined"
     ]
    }
   ],
   "source": [
    "plot_xy(x, y)"
   ]
  },
  {
   "cell_type": "code",
   "execution_count": null,
   "id": "4745dba8",
   "metadata": {},
   "outputs": [],
   "source": []
  }
 ],
 "metadata": {
  "kernelspec": {
   "display_name": "Python 3 (ipykernel)",
   "language": "python",
   "name": "python3"
  },
  "language_info": {
   "codemirror_mode": {
    "name": "ipython",
    "version": 3
   },
   "file_extension": ".py",
   "mimetype": "text/x-python",
   "name": "python",
   "nbconvert_exporter": "python",
   "pygments_lexer": "ipython3",
   "version": "3.11.4"
  }
 },
 "nbformat": 4,
 "nbformat_minor": 5
}
